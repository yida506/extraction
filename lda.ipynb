{
 "cells": [
  {
   "cell_type": "code",
   "execution_count": 39,
   "metadata": {},
   "outputs": [],
   "source": [
    "import pandas as pd\n",
    "import numpy as np\n",
    "from ltp import LTP\n",
    "from sklearn import feature_extraction\n",
    "from sklearn.feature_extraction.text import TfidfTransformer\n",
    "from sklearn.feature_extraction.text import CountVectorizer\n",
    "from sklearn.decomposition import LatentDirichletAllocation\n",
    "import re\n",
    "import itertools\n",
    "from gensim import corpora, models\n",
    "import math\n",
    "import matplotlib.pyplot as plt"
   ]
  },
  {
   "cell_type": "code",
   "execution_count": 2,
   "metadata": {},
   "outputs": [],
   "source": [
    "df = pd.read_csv('items.csv', encoding='gbk')\n",
    "#加载常用词\n",
    "f=open('stopWord.txt', encoding='utf-8')\n",
    "stopwords=[]\n",
    "for line in f:\n",
    "    stopwords.append(line.strip())\n",
    "poslist = ['n', 'nz', 'v', 'vd', 'vn', 'l', 'a', 'd']\n",
    "content_frame = df['CONTENT']\n",
    "ltp = LTP()"
   ]
  },
  {
   "cell_type": "code",
   "execution_count": 3,
   "metadata": {},
   "outputs": [],
   "source": [
    "def prepare_data(df,stopwords):\n",
    "    data =[]\n",
    "    seg,hidden = ltp.seg([df])\n",
    "    pos = ltp.pos(hidden)[0]\n",
    "    for index,value in enumerate(seg[0]):\n",
    "        if value not in stopwords and pos[index] in poslist:\n",
    "            data.append(value)\n",
    "    return data"
   ]
  },
  {
   "cell_type": "code",
   "execution_count": 49,
   "metadata": {},
   "outputs": [],
   "source": [
    "# for i in content_frame:\n",
    "#     prepare_data(i, stopwords)\n",
    "corpus = []\n",
    "for i in content_frame:\n",
    "    a = prepare_data(i, stopwords)\n",
    "    b = ' '.join(a)\n",
    "    corpus.append(b)\n",
    "#     for j in a:\n",
    "#         corpus.append(j)"
   ]
  },
  {
   "cell_type": "code",
   "execution_count": 50,
   "metadata": {},
   "outputs": [],
   "source": [
    "contvector = CountVectorizer(min_df=5)\n",
    "wordmtx = contvector.fit_transform(corpus)\n",
    "transformer = TfidfTransformer()\n",
    "tf_idf = transformer.fit_transform(wordmtx)\n",
    "n_topics = 3\n",
    "ldamodel = LatentDirichletAllocation(n_components=n_topics)"
   ]
  },
  {
   "cell_type": "code",
   "execution_count": 51,
   "metadata": {},
   "outputs": [
    {
     "data": {
      "text/plain": [
       "LatentDirichletAllocation(batch_size=128, doc_topic_prior=None,\n",
       "                          evaluate_every=-1, learning_decay=0.7,\n",
       "                          learning_method='batch', learning_offset=10.0,\n",
       "                          max_doc_update_iter=100, max_iter=10,\n",
       "                          mean_change_tol=0.001, n_components=3, n_jobs=None,\n",
       "                          perp_tol=0.1, random_state=None,\n",
       "                          topic_word_prior=None, total_samples=1000000.0,\n",
       "                          verbose=0)"
      ]
     },
     "execution_count": 51,
     "metadata": {},
     "output_type": "execute_result"
    }
   ],
   "source": [
    "ldamodel.fit(tf_idf)"
   ]
  },
  {
   "cell_type": "code",
   "execution_count": 52,
   "metadata": {},
   "outputs": [],
   "source": [
    "def print_topic_words(model, features, top_n):\n",
    "    for index, value in enumerate(model.components_):\n",
    "        print('topic %d'%index)\n",
    "        print(' '.join([features[i] for i in value.argsort()[:-top_n-1:-1]]))\n",
    "    print()"
   ]
  },
  {
   "cell_type": "code",
   "execution_count": 53,
   "metadata": {},
   "outputs": [
    {
     "name": "stdout",
     "output_type": "stream",
     "text": [
      "topic 0\n",
      "手机 充电器 知道 包装 差评 摄像头 价格 耳机 问题 充电头\n",
      "topic 1\n",
      "屏幕 客服 手机 问题 不好 外观 外形 苹果 充电 激活\n",
      "topic 2\n",
      "降价 信号 保价 电池 时间 购买 差价 建议 不行 手机\n",
      "\n"
     ]
    }
   ],
   "source": [
    "top_n = 10\n",
    "features = contvector.get_feature_names()\n",
    "print_topic_words(ldamodel, features, top_n)"
   ]
  },
  {
   "cell_type": "code",
   "execution_count": 58,
   "metadata": {},
   "outputs": [],
   "source": [
    "def get_k(n_topics):\n",
    "    contvector = CountVectorizer(min_df=5)\n",
    "    wordmtx = contvector.fit_transform(corpus)\n",
    "    transformer = TfidfTransformer()\n",
    "    tf_idf = transformer.fit_transform(wordmtx)\n",
    "    ldamodel = LatentDirichletAllocation(n_components=n_topics)\n",
    "    ldamodel.fit(tf_idf)\n",
    "    print_topic_words(ldamodel, contvector.get_feature_names(), 10)"
   ]
  },
  {
   "cell_type": "code",
   "execution_count": 63,
   "metadata": {},
   "outputs": [
    {
     "name": "stdout",
     "output_type": "stream",
     "text": [
      "topic 0\n",
      "降价 手机 客服 苹果 不好 问题 时间 垃圾 充电 知道\n",
      "topic 1\n",
      "屏幕 手机 外观 信号 问题 外形 充电器 退货 收到 东西\n",
      "\n",
      "topic 0\n",
      "手机 垃圾 保价 苹果 价格 包装 激活 摄像头 耳机 退货\n",
      "topic 1\n",
      "降价 屏幕 外观 手机 外形 划痕 感觉 速度 充电 发热\n",
      "topic 2\n",
      "信号 问题 不好 手机 客服 时间 充电器 东西 服务 待机\n",
      "\n",
      "topic 0\n",
      "充电器 保价 包装 hellip 东西 耳机 手机 感觉 苹果 绿屏\n",
      "topic 1\n",
      "降价 屏幕 外观 外形 划痕 价格 差价 充电头 音效 手机\n",
      "topic 2\n",
      "信号 不好 手机 充电 速度 发热 拍照 摄像头 运行 掉价\n",
      "topic 3\n",
      "手机 客服 问题 服务 垃圾 时间 知道 态度 解决 质量\n",
      "\n",
      "topic 0\n",
      "降价 外观 外形 保价 差价 拍照 效果 划痕 瑕疵 保护\n",
      "topic 1\n",
      "时间 信号 手机 待机 速度 运行 摄像头 屏幕 死机 退货\n",
      "topic 2\n",
      "手机 屏幕 充电 包装 耳机 hellip 充电头 知道 特色 掉价\n",
      "topic 3\n",
      "客服 不好 问题 手机 服务 垃圾 态度 充电器 电池 质量\n",
      "topic 4\n",
      "手机 苹果 激活 问题 开机 购买 价格 出现 后悔 建议\n",
      "\n",
      "topic 0\n",
      "手机 问题 客服 屏幕 质量 服务 出现 感觉 划痕 解决\n",
      "topic 1\n",
      "保价 耳机 充电头 降价 特色 屏幕 辣鸡 充电 后悔 购买\n",
      "topic 2\n",
      "外观 外形 速度 运行 激活 拍照 效果 发票 手机 屏幕\n",
      "topic 3\n",
      "降价 价格 差价 时间 摄像头 待机 星期 保护 开心 手机\n",
      "topic 4\n",
      "手机 垃圾 不好 发热 hellip 差评 有点 发货 电池 反应\n",
      "topic 5\n",
      "信号 充电器 手机 死机 东西 声音 不行 电话 赠品 数据线\n",
      "\n",
      "topic 0\n",
      "降价 保价 差价 发热 摄像头 星期 数据线 赠品 特色 手机\n",
      "topic 1\n",
      "不好 问题 客服 服务 手机 hellip 态度 苹果 解决 质量\n",
      "topic 2\n",
      "手机 充电器 包装 充电 打开 客服 情况 建议 购买 破损\n",
      "topic 3\n",
      "手机 划痕 死机 垃圾 问题 感觉 屏幕 收到 开机 退货\n",
      "topic 4\n",
      "外观 外形 速度 拍照 运行 东西 掉价 效果 发票 绿屏\n",
      "topic 5\n",
      "充电头 手机 耳机 后悔 声音 不行 手机壳 游戏 差评 信号\n",
      "topic 6\n",
      "屏幕 时间 电池 价格 待机 信号 音效 小时 手机 保护\n",
      "\n",
      "topic 0\n",
      "摄像头 垃圾 价格 hellip 退货 死机 包装 手机 保护 差评\n",
      "topic 1\n",
      "时间 电池 待机 手机 建议 后悔 态度 服务 感觉 知道\n",
      "topic 2\n",
      "信号 掉价 手机 声音 划痕 明显 屏幕 不好 杂音 严重\n",
      "topic 3\n",
      "手机 客服 激活 东西 星期 问题 联系 毛病 打开 灵敏\n",
      "topic 4\n",
      "屏幕 外观 外形 保价 降价 差价 拍照 音效 效果 充电\n",
      "topic 5\n",
      "降价 不好 手机 收到 发热 黑屏 出现 反应 关机 情况\n",
      "topic 6\n",
      "速度 绿屏 发货 运行 手机 有点 购买 失望 退换 越来越\n",
      "topic 7\n",
      "充电器 耳机 问题 特色 充电头 手机 辣鸡 发票 解决 手机壳\n",
      "\n",
      "topic 0\n",
      "外观 外形 时间 客服 速度 待机 拍照 运行 垃圾 感觉\n",
      "topic 1\n",
      "包装 hellip 发货 发票 问题 数据线 手机 出现 满意 机器\n",
      "topic 2\n",
      "屏幕 摄像头 不行 手机 特色 音效 失灵 手机壳 黑屏 知道\n",
      "topic 3\n",
      "充电 发热 手机 死机 电池 游戏 购买 建议 严重 情况\n",
      "topic 4\n",
      "手机 苹果 充电头 问题 激活 划痕 掉价 退换 屏幕 质量\n",
      "topic 5\n",
      "价格 退货 收到 关机 保护 电话 开机 自动 手机 快递\n",
      "topic 6\n",
      "降价 保价 绿屏 翻新机 闪退 手机 小时 真是 配件 套路\n",
      "topic 7\n",
      "充电器 不好 差价 降价 辣鸡 耳机 东西 星期 手机 差评\n",
      "topic 8\n",
      "信号 后悔 手机 不好 耗电 声音 活动 真的 特别 网络\n",
      "\n"
     ]
    }
   ],
   "source": [
    "for i in range(2,10):\n",
    "    get_k(i)"
   ]
  },
  {
   "cell_type": "code",
   "execution_count": 11,
   "metadata": {},
   "outputs": [
    {
     "name": "stdout",
     "output_type": "stream",
     "text": [
      "of Topic: 1, \n",
      " N_iter 20, \n",
      "Perplexity Score 97.986\n",
      "of Topic: 6, \n",
      " N_iter 20, \n",
      "Perplexity Score 195.918\n",
      "of Topic: 11, \n",
      " N_iter 20, \n",
      "Perplexity Score 264.946\n",
      "of Topic: 16, \n",
      " N_iter 20, \n",
      "Perplexity Score 325.179\n",
      "of Topic: 21, \n",
      " N_iter 20, \n",
      "Perplexity Score 356.825\n",
      "of Topic: 26, \n",
      " N_iter 20, \n",
      "Perplexity Score 410.628\n",
      "of Topic: 31, \n",
      " N_iter 20, \n",
      "Perplexity Score 489.326\n",
      "of Topic: 36, \n",
      " N_iter 20, \n",
      "Perplexity Score 497.033\n",
      "of Topic: 41, \n",
      " N_iter 20, \n",
      "Perplexity Score 567.982\n",
      "of Topic: 46, \n",
      " N_iter 20, \n",
      "Perplexity Score 592.411\n",
      "of Topic: 51, \n",
      " N_iter 20, \n",
      "Perplexity Score 647.805\n",
      "of Topic: 56, \n",
      " N_iter 20, \n",
      "Perplexity Score 701.816\n",
      "of Topic: 61, \n",
      " N_iter 20, \n",
      "Perplexity Score 715.302\n",
      "of Topic: 66, \n",
      " N_iter 20, \n",
      "Perplexity Score 760.015\n",
      "of Topic: 71, \n",
      " N_iter 20, \n",
      "Perplexity Score 832.452\n",
      "of Topic: 76, \n",
      " N_iter 20, \n",
      "Perplexity Score 817.363\n",
      "of Topic: 81, \n",
      " N_iter 20, \n",
      "Perplexity Score 1064.808\n",
      "of Topic: 86, \n",
      " N_iter 20, \n",
      "Perplexity Score 1009.340\n",
      "of Topic: 91, \n",
      " N_iter 20, \n",
      "Perplexity Score 982.916\n",
      "of Topic: 96, \n",
      " N_iter 20, \n",
      "Perplexity Score 956.368\n",
      "Best  of Topic:  1\n"
     ]
    }
   ],
   "source": [
    "# n_topics = range(1, 100, 5)\n",
    "# perplexityLst = [1.0]*len(n_topics)\n",
    "\n",
    "# #训练LDA并打印训练时间\n",
    "# lda_models = []\n",
    "# for idx, n_topic in enumerate(n_topics):\n",
    "#     lda = LatentDirichletAllocation(n_components=n_topic,\n",
    "#                                     max_iter=20,\n",
    "#                                     learning_method='batch',\n",
    "#                                     evaluate_every=200,\n",
    "# #                                    perp_tol=0.1, #default                                       \n",
    "# #                                    doc_topic_prior=1/n_topic, #default\n",
    "# #                                    topic_word_prior=1/n_topic, #default\n",
    "#                                     verbose=0)\n",
    "#     new_lda = lda.fit(tf_idf)\n",
    "#     perplexityLst[idx] = new_lda.perplexity(tf_idf)\n",
    "#     lda_models.append(lda)\n",
    "#     print(\"of Topic: %d, \" % n_topics[idx])\n",
    "#     print(\" N_iter %d, \" % ( lda.n_iter_))\n",
    "#     print(\"Perplexity Score %0.3f\" % perplexityLst[idx])\n",
    "\n",
    "# #打印最佳模型\n",
    "# best_index = perplexityLst.index(min(perplexityLst))\n",
    "# best_n_topic = n_topics[best_index]\n",
    "# best_model = lda_models[best_index]\n",
    "# print(\"Best  of Topic: \", best_n_topic)"
   ]
  },
  {
   "cell_type": "code",
   "execution_count": 12,
   "metadata": {},
   "outputs": [
    {
     "data": {
      "image/png": "[encoded data removed]",
      "text/plain": [
       "<Figure size 432x288 with 1 Axes>"
      ]
     },
     "metadata": {
      "needs_background": "light"
     },
     "output_type": "display_data"
    }
   ],
   "source": [
    "# import matplotlib.pyplot as plt\n",
    "# #绘制不同主题数perplexity的不同\n",
    "# fig = plt.figure()\n",
    "# ax = fig.add_subplot(1,1,1)\n",
    "# ax.plot(n_topics, perplexityLst)\n",
    "# ax.set_xlabel(\"# of topics\")\n",
    "# ax.set_ylabel(\"Approximate Perplexity\")\n",
    "# plt.grid(True)\n",
    "# plt.show()\n"
   ]
  },
  {
   "cell_type": "code",
   "execution_count": 29,
   "metadata": {},
   "outputs": [],
   "source": [
    "neg_dict=corpora.Dictionary([ [i] for i in corpus])"
   ]
  },
  {
   "cell_type": "code",
   "execution_count": 33,
   "metadata": {},
   "outputs": [],
   "source": [
    "neg_corpus=[ neg_dict.doc2bow(j) for j in [ [i] for i in corpus] ]"
   ]
  },
  {
   "cell_type": "code",
   "execution_count": 34,
   "metadata": {},
   "outputs": [],
   "source": [
    "#构造主题数寻优函数\n",
    "\n",
    "def cos(vector1,vector2):\n",
    "    '''\n",
    "    函数功能：余玄相似度函数\n",
    "    '''\n",
    "    dot_product=0.0\n",
    "    normA=0.0\n",
    "    normB=0.0\n",
    "    for a,b in zip(vector1,vector2):\n",
    "        dot_product +=a*b\n",
    "        normA +=a**2\n",
    "        normB +=b**2\n",
    "    if normA==0.0 or normB==0.0:\n",
    "        return None\n",
    "    else:\n",
    "        return ( dot_product/((normA*normB)**0.5) )"
   ]
  },
  {
   "cell_type": "code",
   "execution_count": 35,
   "metadata": {},
   "outputs": [],
   "source": [
    "#主题数寻优\n",
    "#这个函数可以重复调用，解决其他项目的问题\n",
    "\n",
    "def LDA_k(x_corpus,x_dict):\n",
    "    '''\n",
    "    函数功能：\n",
    "    '''\n",
    "    #初始化平均余玄相似度\n",
    "    mean_similarity=[]\n",
    "    mean_similarity.append(1)\n",
    "    \n",
    "    #循环生成主题并计算主题间相似度\n",
    "    for i in np.arange(2,11):\n",
    "        lda=models.LdaModel(x_corpus,num_topics=i,id2word=x_dict) #LDA模型训练\n",
    "        \n",
    "        for j in np.arange(i):\n",
    "            term=lda.show_topics(num_words=50)\n",
    "        \n",
    "        #提取各主题词\n",
    "        top_word=[] #shape=(i,50)\n",
    "        for k in np.arange(i):\n",
    "            top_word.append( [''.join(re.findall('\"(.*)\"',i)) for i in term[k][1].split('+')]) #列出所有词\n",
    "        \n",
    "        #构造词频向量\n",
    "        word=sum(top_word,[]) #列车所有词\n",
    "        unique_word=set(word) #去重\n",
    "        \n",
    "        #构造主题词列表，行表示主题号，列表示各主题词\n",
    "        mat=[] #shape=(i,len(unique_word))\n",
    "        for j in np.arange(i):\n",
    "            top_w=top_word[j]\n",
    "            mat.append( tuple([ top_w.count(k) for k in unique_word ])) #统计list中元素的频次，返回元组\n",
    "        \n",
    "        #两两组合。方法一\n",
    "        p=list(itertools.permutations(list(np.arange(i)),2)) #返回可迭代对象的所有数学全排列方式。\n",
    "        y=len(p) # y=i*(i-1)\n",
    "        top_similarity=[0]\n",
    "        for w in np.arange(y):\n",
    "            vector1=mat[p[w][0]]\n",
    "            vector2=mat[p[w][1]]\n",
    "            top_similarity.append(cos(vector1,vector2))\n",
    "\n",
    "#        #两两组合，方法二\n",
    "#        for x in range(i-1):\n",
    "#            for y in range(x,i):\n",
    "            \n",
    "        #计算平均余玄相似度\n",
    "        mean_similarity.append(sum(top_similarity)/ y)\n",
    "    return mean_similarity"
   ]
  },
  {
   "cell_type": "code",
   "execution_count": 40,
   "metadata": {},
   "outputs": [],
   "source": [
    "pos_k=LDA_k(neg_corpus,neg_dict)"
   ]
  },
  {
   "cell_type": "code",
   "execution_count": 41,
   "metadata": {},
   "outputs": [
    {
     "data": {
      "text/plain": [
       "[1,\n",
       " 0.0,\n",
       " 0.0,\n",
       " 0.0,\n",
       " 0.0,\n",
       " 0.0,\n",
       " 0.0,\n",
       " 0.0,\n",
       " 0.005000000000000001,\n",
       " 0.011111111111111113]"
      ]
     },
     "execution_count": 41,
     "metadata": {},
     "output_type": "execute_result"
    }
   ],
   "source": [
    "pos_k"
   ]
  },
  {
   "cell_type": "code",
   "execution_count": 44,
   "metadata": {},
   "outputs": [
    {
     "data": {
      "image/png": "[encoded data removed]",
      "text/plain": [
       "<Figure size 432x288 with 1 Axes>"
      ]
     },
     "metadata": {
      "needs_background": "light"
     },
     "output_type": "display_data"
    }
   ],
   "source": [
    "pd.Series(pos_k,index=range(1,11)).plot()\n",
    "plt.title('lda topic')\n",
    "plt.show()"
   ]
  },
  {
   "cell_type": "code",
   "execution_count": 47,
   "metadata": {},
   "outputs": [],
   "source": [
    "neg_lda=models.LdaModel(neg_corpus,num_topics=9,id2word=neg_dict)"
   ]
  },
  {
   "cell_type": "code",
   "execution_count": 48,
   "metadata": {},
   "outputs": [
    {
     "data": {
      "text/plain": [
       "[(0,\n",
       "  '0.155*\"差\" + 0.072*\"知道\" + 0.066*\"激活\" + 0.061*\"发\" + 0.056*\"时间\" + 0.037*\"电话\" + 0.035*\"电池\" + 0.032*\"理由\" + 0.025*\"严重\" + 0.024*\"系统\"'),\n",
       " (1,\n",
       "  '0.132*\"退\" + 0.092*\"售\" + 0.057*\"送\" + 0.048*\"信号\" + 0.041*\"质量\" + 0.038*\"店\" + 0.036*\"钱\" + 0.036*\"建议\" + 0.032*\"掉\" + 0.030*\"开机\"'),\n",
       " (2,\n",
       "  '0.159*\"客服\" + 0.114*\"太\" + 0.089*\"垃圾\" + 0.065*\"降价\" + 0.048*\"新\" + 0.048*\"月\" + 0.045*\"服务\" + 0.035*\"解决\" + 0.031*\"待机\" + 0.019*\"手\"'),\n",
       " (3,\n",
       "  '0.051*\"态度\" + 0.048*\"卡\" + 0.046*\"问\" + 0.044*\"出现\" + 0.042*\"感觉\" + 0.040*\"联系\" + 0.038*\"充电\" + 0.035*\"只\" + 0.035*\"最\" + 0.034*\"失灵\"'),\n",
       " (4,\n",
       "  '0.395*\"买\" + 0.085*\"苹果\" + 0.063*\"货\" + 0.059*\"小\" + 0.056*\"真\" + 0.030*\"一直\" + 0.017*\"降\" + 0.014*\"希望\" + 0.014*\"回\" + 0.012*\"差劲\"'),\n",
       " (5,\n",
       "  '0.118*\"好\" + 0.076*\"想\" + 0.072*\"差评\" + 0.054*\"不好\" + 0.047*\"显示\" + 0.046*\"电\" + 0.040*\"购物\" + 0.036*\"发热\" + 0.035*\"产品\" + 0.033*\"回来\"'),\n",
       " (6,\n",
       "  '0.275*\"手机\" + 0.082*\"换\" + 0.077*\"屏幕\" + 0.049*\"检测\" + 0.034*\"无\" + 0.033*\"收到\" + 0.031*\"开\" + 0.030*\"使用\" + 0.022*\"无法\" + 0.020*\"特色\"'),\n",
       " (7,\n",
       "  '0.059*\"拆\" + 0.057*\"东西\" + 0.052*\"外观\" + 0.051*\"包装\" + 0.044*\"真的\" + 0.039*\"外形\" + 0.038*\"商家\" + 0.036*\"慢\" + 0.036*\"已经\" + 0.035*\"运行\"'),\n",
       " (8,\n",
       "  '0.179*\"问题\" + 0.176*\"说\" + 0.062*\"退货\" + 0.047*\"购买\" + 0.043*\"退换\" + 0.033*\"体验\" + 0.031*\"申请\" + 0.029*\"完\" + 0.029*\"再\" + 0.029*\"发现\"')]"
      ]
     },
     "execution_count": 48,
     "metadata": {},
     "output_type": "execute_result"
    }
   ],
   "source": [
    "neg_lda.print_topics(num_topics=10)"
   ]
  },
  {
   "cell_type": "code",
   "execution_count": null,
   "metadata": {},
   "outputs": [],
   "source": []
  }
 ],
 "metadata": {
  "kernelspec": {
   "display_name": "Python 3",
   "language": "python",
   "name": "python3"
  },
  "language_info": {
   "codemirror_mode": {
    "name": "ipython",
    "version": 3
   },
   "file_extension": ".py",
   "mimetype": "text/x-python",
   "name": "python",
   "nbconvert_exporter": "python",
   "pygments_lexer": "ipython3",
   "version": "3.8.1"
  }
 },
 "nbformat": 4,
 "nbformat_minor": 4
}
